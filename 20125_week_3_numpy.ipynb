{
  "nbformat": 4,
  "nbformat_minor": 0,
  "metadata": {
    "colab": {
      "provenance": [],
      "include_colab_link": true
    },
    "kernelspec": {
      "name": "python3",
      "display_name": "Python 3"
    },
    "language_info": {
      "name": "python"
    }
  },
  "cells": [
    {
      "cell_type": "markdown",
      "metadata": {
        "id": "view-in-github",
        "colab_type": "text"
      },
      "source": [
        "<a href=\"https://colab.research.google.com/github/ruthin1912/machinelearning/blob/main/20125_week_3_numpy.ipynb\" target=\"_parent\"><img src=\"https://colab.research.google.com/assets/colab-badge.svg\" alt=\"Open In Colab\"/></a>"
      ]
    },
    {
      "cell_type": "code",
      "execution_count": 1,
      "metadata": {
        "id": "hpQl-3eFcVaS"
      },
      "outputs": [],
      "source": [
        "import numpy as np"
      ]
    },
    {
      "cell_type": "code",
      "source": [
        "arr = np.array([1,2,3,4,5]) #1-d array\n",
        "arr"
      ],
      "metadata": {
        "colab": {
          "base_uri": "https://localhost:8080/"
        },
        "id": "z002Fr5g8Q33",
        "outputId": "d80154a8-bb2c-4d8c-b391-415945e4c39c"
      },
      "execution_count": 2,
      "outputs": [
        {
          "output_type": "execute_result",
          "data": {
            "text/plain": [
              "array([1, 2, 3, 4, 5])"
            ]
          },
          "metadata": {},
          "execution_count": 2
        }
      ]
    },
    {
      "cell_type": "code",
      "source": [
        "arr = np.array([[1,2,3,4],[5,6,7,8]]) #2-d array\n",
        "print(arr)\n",
        "print(arr.ndim) #printing no.of dimensions"
      ],
      "metadata": {
        "colab": {
          "base_uri": "https://localhost:8080/"
        },
        "id": "e_UhdLMw8lWg",
        "outputId": "176f14f0-68b2-4f71-85eb-46eb0181b0c2"
      },
      "execution_count": 3,
      "outputs": [
        {
          "output_type": "stream",
          "name": "stdout",
          "text": [
            "[[1 2 3 4]\n",
            " [5 6 7 8]]\n",
            "2\n"
          ]
        }
      ]
    },
    {
      "cell_type": "code",
      "source": [
        "arr = np.array([[[1,2,3,4],[5,6,7,8],[1,2,3,4]]]) #3-d array\n",
        "print(arr)\n",
        "print(arr.ndim)"
      ],
      "metadata": {
        "colab": {
          "base_uri": "https://localhost:8080/"
        },
        "id": "HiKosJTu871z",
        "outputId": "68b26474-5b06-4f15-aeea-1d975835b964"
      },
      "execution_count": 4,
      "outputs": [
        {
          "output_type": "stream",
          "name": "stdout",
          "text": [
            "[[[1 2 3 4]\n",
            "  [5 6 7 8]\n",
            "  [1 2 3 4]]]\n",
            "3\n"
          ]
        }
      ]
    },
    {
      "cell_type": "code",
      "source": [
        "arr = np.array([1,2,3,4]) \n",
        "print(arr[3])"
      ],
      "metadata": {
        "colab": {
          "base_uri": "https://localhost:8080/"
        },
        "id": "CNaYmoo69RPn",
        "outputId": "a0083cd9-ace8-479e-d636-92d53cea958e"
      },
      "execution_count": 5,
      "outputs": [
        {
          "output_type": "stream",
          "name": "stdout",
          "text": [
            "4\n"
          ]
        }
      ]
    },
    {
      "cell_type": "code",
      "source": [
        "arr = np.array([1,2,3,4]) \n",
        "print(arr[3]+arr[1])"
      ],
      "metadata": {
        "colab": {
          "base_uri": "https://localhost:8080/"
        },
        "id": "2SBDoT8h9pjl",
        "outputId": "ace7712f-899b-4473-8a36-a5b4eb632a56"
      },
      "execution_count": 6,
      "outputs": [
        {
          "output_type": "stream",
          "name": "stdout",
          "text": [
            "6\n"
          ]
        }
      ]
    },
    {
      "cell_type": "code",
      "source": [
        "arr = np.array([[1,2,3,4],[5,6,7,8]]) #2-d array position of element\n",
        "print(arr[0,1])"
      ],
      "metadata": {
        "colab": {
          "base_uri": "https://localhost:8080/"
        },
        "id": "MSN40BfR9uNv",
        "outputId": "9551b86d-0836-4e6b-834e-c286b8c52bc4"
      },
      "execution_count": 7,
      "outputs": [
        {
          "output_type": "stream",
          "name": "stdout",
          "text": [
            "2\n"
          ]
        }
      ]
    },
    {
      "cell_type": "code",
      "source": [
        "arr = np.array([[[1, 2, 3], [4, 5, 6]], [[7, 8, 9], [10, 11, 12]]]) #3-d array position of element\n",
        "print(arr[0,1,2])"
      ],
      "metadata": {
        "colab": {
          "base_uri": "https://localhost:8080/"
        },
        "id": "4ixd7aOl-Cla",
        "outputId": "a9efb13f-0cd3-497b-e097-c472b3f6f8c6"
      },
      "execution_count": 8,
      "outputs": [
        {
          "output_type": "stream",
          "name": "stdout",
          "text": [
            "6\n"
          ]
        }
      ]
    },
    {
      "cell_type": "code",
      "source": [
        "arr = np.array([[1,2,3,4],[5,6,7,8],[22,33,44,55]]) #Print the last element from the 2nd dim:\n",
        "print(arr[1,-1])\n",
        "print(arr)"
      ],
      "metadata": {
        "colab": {
          "base_uri": "https://localhost:8080/"
        },
        "id": "hfaPt385-TcA",
        "outputId": "56e21137-2fa1-4604-a3c6-c6b8bb1077eb"
      },
      "execution_count": null,
      "outputs": [
        {
          "output_type": "stream",
          "name": "stdout",
          "text": [
            "8\n",
            "[[ 1  2  3  4]\n",
            " [ 5  6  7  8]\n",
            " [22 33 44 55]]\n"
          ]
        }
      ]
    },
    {
      "cell_type": "code",
      "source": [
        "# Flattening the arrays (Converting a multidimensional array into a 1D array)\n",
        "arr = np.array([[1, 2, 3], [4, 5, 6]])\n",
        "newarr = arr.reshape(-1)\n",
        "print(newarr)\n",
        "print(newarr.ndim)\n",
        "print(newarr.shape)"
      ],
      "metadata": {
        "colab": {
          "base_uri": "https://localhost:8080/"
        },
        "id": "zXEcnR-gWAFl",
        "outputId": "11e389dc-cdc5-4d17-c5aa-89b3e9cd5d1b"
      },
      "execution_count": 9,
      "outputs": [
        {
          "output_type": "stream",
          "name": "stdout",
          "text": [
            "[1 2 3 4 5 6]\n",
            "1\n",
            "(6,)\n"
          ]
        }
      ]
    },
    {
      "cell_type": "code",
      "source": [
        "# Mean, Median and Standard deviation\n",
        "a = np.arange(5,50,2)\n",
        "print(a)\n",
        "print('Mean :',np.mean(a))\n",
        "print('Standard deviation :',np.std(a))\n",
        "print('Median :',np.median(a))\n",
        "\n",
        "# minimum along a column\n",
        "print('Min :',np.min(a))\n",
        "# maximum along a row\n",
        "print('Max :',np.max(a))"
      ],
      "metadata": {
        "colab": {
          "base_uri": "https://localhost:8080/"
        },
        "id": "2ZPIchx8VjxY",
        "outputId": "61349872-4e4a-489f-a6a1-684b8fe46d5c"
      },
      "execution_count": 10,
      "outputs": [
        {
          "output_type": "stream",
          "name": "stdout",
          "text": [
            "[ 5  7  9 11 13 15 17 19 21 23 25 27 29 31 33 35 37 39 41 43 45 47 49]\n",
            "Mean : 27.0\n",
            "Standard deviation : 13.2664991614216\n",
            "Median : 27.0\n",
            "Min : 5\n",
            "Max : 49\n"
          ]
        }
      ]
    },
    {
      "cell_type": "code",
      "source": [
        "# Array Arithmetic\n",
        "a = np.array([[3, 2, 4], [5, 0, 1], [2, 5, 8]])\n",
        "b = np.array([[1, 0, 5], [2, 3, 7], [6, 4, 5]])\n",
        "\n",
        "print(a+2)\n",
        "print(a-1)\n",
        "print(a*5)\n",
        "print(a/2)\n",
        "\n",
        "c = a + b\n",
        "print(c)\n",
        "\n",
        "d = a - b\n",
        "print(d)\n",
        "\n",
        "e = a * b\n",
        "print(e)"
      ],
      "metadata": {
        "colab": {
          "base_uri": "https://localhost:8080/"
        },
        "id": "7utOuV2yVrYX",
        "outputId": "84b5a76c-1399-4073-d5be-8f14f3c75c7f"
      },
      "execution_count": 11,
      "outputs": [
        {
          "output_type": "stream",
          "name": "stdout",
          "text": [
            "[[ 5  4  6]\n",
            " [ 7  2  3]\n",
            " [ 4  7 10]]\n",
            "[[ 2  1  3]\n",
            " [ 4 -1  0]\n",
            " [ 1  4  7]]\n",
            "[[15 10 20]\n",
            " [25  0  5]\n",
            " [10 25 40]]\n",
            "[[1.5 1.  2. ]\n",
            " [2.5 0.  0.5]\n",
            " [1.  2.5 4. ]]\n",
            "[[ 4  2  9]\n",
            " [ 7  3  8]\n",
            " [ 8  9 13]]\n",
            "[[ 2  2 -1]\n",
            " [ 3 -3 -6]\n",
            " [-4  1  3]]\n",
            "[[ 3  0 20]\n",
            " [10  0  7]\n",
            " [12 20 40]]\n"
          ]
        }
      ]
    },
    {
      "cell_type": "code",
      "source": [
        "# NumPy Random\n",
        "from numpy import random\n",
        "\n",
        "x = random.randint(100)\n",
        "print(x)\n",
        "\n",
        "x1 = random.rand()\n",
        "print(x1)\n",
        "\n",
        "x2 = random.randint(100, size=(3, 5))\n",
        "print(x2)\n",
        "\n",
        "x3 = random.rand(3, 5)\n",
        "print(x3)\n"
      ],
      "metadata": {
        "colab": {
          "base_uri": "https://localhost:8080/"
        },
        "id": "IqaNFKJCVxqb",
        "outputId": "a12a865d-d9c9-4ef7-a36e-665c09b52fcf"
      },
      "execution_count": 12,
      "outputs": [
        {
          "output_type": "stream",
          "name": "stdout",
          "text": [
            "13\n",
            "0.052138926211403924\n",
            "[[71 89  1 12  7]\n",
            " [76 97 72 92 10]\n",
            " [94 92 56 64 39]]\n",
            "[[0.01510397 0.8064471  0.01896222 0.33504012 0.23936198]\n",
            " [0.49766391 0.58771202 0.93010222 0.40002395 0.83463322]\n",
            " [0.95537101 0.1847178  0.88746511 0.77800942 0.22116351]]\n"
          ]
        }
      ]
    },
    {
      "cell_type": "code",
      "source": [
        "# Join two arrays\n",
        "\n",
        "arr1 = np.array([1, 2, 3])\n",
        "arr2 = np.array([4, 5, 6])\n",
        "arr = np.concatenate((arr1, arr2))\n",
        "print(arr)"
      ],
      "metadata": {
        "colab": {
          "base_uri": "https://localhost:8080/"
        },
        "id": "1z2mVTwBV6O6",
        "outputId": "3b5cab3e-63b7-489e-a928-29999bcbb0fe"
      },
      "execution_count": 13,
      "outputs": [
        {
          "output_type": "stream",
          "name": "stdout",
          "text": [
            "[1 2 3 4 5 6]\n"
          ]
        }
      ]
    },
    {
      "cell_type": "code",
      "source": [
        "# Join two 2-D arrays along rows (axis=1)\n",
        "arr1 = np.array([[1, 2], [3, 4]])\n",
        "arr2 = np.array([[5, 6], [7, 8]])\n",
        "arr = np.concatenate((arr1, arr2), axis=1)\n",
        "print(arr)"
      ],
      "metadata": {
        "colab": {
          "base_uri": "https://localhost:8080/"
        },
        "id": "OAGmdYbHV8_K",
        "outputId": "5ca0a5d8-f34b-4029-d0cb-06a1e015e7da"
      },
      "execution_count": 14,
      "outputs": [
        {
          "output_type": "stream",
          "name": "stdout",
          "text": [
            "[[1 2 5 6]\n",
            " [3 4 7 8]]\n"
          ]
        }
      ]
    },
    {
      "cell_type": "code",
      "source": [
        "# Random Distribution\n",
        "from numpy import random\n",
        "x = random.choice([3, 5, 7, 9], p=[0.1, 0.3, 0.6, 0.0], size=(100))\n",
        "print(x)\n",
        "\n",
        "y = random.choice([3, 5, 7, 9], p=[0.1, 0.3, 0.6, 0.0], size=(3, 5))\n",
        "print(y)"
      ],
      "metadata": {
        "id": "Sj9Okx4M_Oy5",
        "colab": {
          "base_uri": "https://localhost:8080/"
        },
        "outputId": "2fab9977-5a43-4f08-964f-ab724628e733"
      },
      "execution_count": 15,
      "outputs": [
        {
          "output_type": "stream",
          "name": "stdout",
          "text": [
            "[5 7 5 5 7 5 5 5 7 7 7 3 5 7 5 7 7 7 7 3 7 7 7 5 5 5 5 3 3 7 7 5 7 7 7 5 3\n",
            " 5 7 3 7 3 7 5 7 3 7 7 7 7 7 7 7 7 7 7 7 7 7 5 3 7 7 7 7 7 7 3 7 7 7 7 5 3\n",
            " 5 5 7 5 5 7 7 7 7 3 5 5 7 7 7 7 3 5 7 5 7 7 5 7 7 7]\n",
            "[[5 7 5 3 7]\n",
            " [7 7 7 7 5]\n",
            " [5 7 7 7 7]]\n"
          ]
        }
      ]
    },
    {
      "cell_type": "code",
      "source": [
        "x = random.normal(size=(2, 3))\n",
        "print(x)\n",
        "\n",
        "y = random.normal(loc=1, scale=2, size=(2, 3))\n",
        "print(y)"
      ],
      "metadata": {
        "colab": {
          "base_uri": "https://localhost:8080/"
        },
        "id": "jkU95f_SVgPH",
        "outputId": "0cf80387-42d4-4d73-85a5-11790cafe920"
      },
      "execution_count": 16,
      "outputs": [
        {
          "output_type": "stream",
          "name": "stdout",
          "text": [
            "[[ 0.11089753  1.2509795   0.18145556]\n",
            " [ 0.74640213 -1.39800691  2.05433046]]\n",
            "[[-3.44596291 -0.19789347  0.55703109]\n",
            " [-0.17957563  2.64852669  1.29766516]]\n"
          ]
        }
      ]
    }
  ]
}